{
 "cells": [
  {
   "cell_type": "code",
   "execution_count": 1,
   "id": "d8ae2ea8",
   "metadata": {},
   "outputs": [],
   "source": [
    "########################################################################################\n",
    "# Analysis script that uses single textual source only for issue report classification #\n",
    "# Section 5.2 Single-Source Approaches using Textual Information Only                  #\n",
    "########################################################################################\n",
    "import re\n",
    "import pandas\n",
    "import numpy as np\n",
    "from time import gmtime, strftime, time\n",
    "from sklearn.model_selection import train_test_split\n",
    "from sklearn.feature_extraction.text import TfidfVectorizer\n",
    "from scipy.sparse import hstack\n",
    "from sklearn import model_selection\n",
    "from sklearn.svm import LinearSVC\n",
    "from sklearn.calibration import CalibratedClassifierCV\n",
    "from sklearn.metrics import accuracy_score\n",
    "from sklearn.metrics import classification_report\n",
    "from sklearn.metrics import confusion_matrix\n",
    "from stop_words import get_stop_words"
   ]
  },
  {
   "cell_type": "code",
   "execution_count": 2,
   "id": "14ef8626",
   "metadata": {},
   "outputs": [],
   "source": [
    "# The issues have been downloaded and saved as a csv file. \n",
    "# The following are the column names in the input data file, change them according to your file specifications \n",
    "CNAME_TEAMCODE = \"TEAMCODE\"\n",
    "CNAME_SUBJECT = \"SUBJECT\"\n",
    "CNAME_DESCRIPTION = \"DESCRIPTION\"\n",
    "CNAME_RECORD_TYPE = \"RECORDTYPE\"\n",
    "CNAME_STATUS = \"STATUS\"\n",
    "CNAME_YEAR_OPENED = \"CREATIONYEAR\" # year of creation of issue reports\n",
    "CNAME_MONTH_OPENED = \"CREATIONMONTH\" # month of creation of issue reports\n",
    "# filtering specifications \n",
    "FILTER_ISSUE_TYPE = 'ISSUE'\n",
    "FILTER_ISSUE_STATUS = 'CLOSED'"
   ]
  },
  {
   "cell_type": "code",
   "execution_count": 3,
   "id": "38723951",
   "metadata": {},
   "outputs": [],
   "source": [
    "def selectRecordsOpenedAtYearMonth(dataset, year, month):\n",
    "    \"\"\"\n",
    "    returns the issue records belonging to the input year and month\n",
    "    \"\"\"\n",
    "    d1 = dataset.groupby(CNAME_YEAR_OPENED).filter(lambda x: x.name == year)\n",
    "\n",
    "    return d1.groupby(CNAME_MONTH_OPENED).filter(lambda x: x.name == month)"
   ]
  },
  {
   "cell_type": "code",
   "execution_count": 4,
   "id": "88331594",
   "metadata": {},
   "outputs": [],
   "source": [
    "CNAME_SUBJECT_DESCRIPTION = \"SUBJECT_DESCRIPTION\" # concatenation of subject and description\n",
    "\n",
    "def load(filePath):\n",
    "    '''\n",
    "    load the dataset, ISO-8859-9 encoding is used for characters specific to Turkish language.\n",
    "    '''\n",
    "    dataset = pandas.read_csv(filePath, encoding=\"ISO-8859-9\", delimiter=\";\") \n",
    "\n",
    "    # remove the spaces from the start and end of column names\n",
    "    dataset.rename(columns=lambda x: x.strip(), inplace=True)\n",
    "\n",
    "    # concatenate subject and description in one column\n",
    "    dataset[CNAME_SUBJECT_DESCRIPTION] = dataset[CNAME_SUBJECT].astype(str) + ' ' + dataset[CNAME_DESCRIPTION].astype(str)\n",
    "\n",
    "    return dataset"
   ]
  },
  {
   "cell_type": "code",
   "execution_count": 5,
   "id": "39d8bf42",
   "metadata": {},
   "outputs": [],
   "source": [
    "def selectTrainingDatasetRecords(dataset, train_year, train_month_list):\n",
    "    \"\"\"\n",
    "    filter issue records from the training dataset such that \n",
    "     * unresolved are eliminated and \n",
    "     * they are opened at specific time intervals\n",
    "\n",
    "    \"\"\"\n",
    "    dataset = dataset[(dataset[CNAME_RECORD_TYPE] == FILTER_ISSUE_TYPE) &\n",
    "                      (dataset[CNAME_STATUS] == FILTER_ISSUE_STATUS)]\n",
    "    # # select year and month\n",
    "    frames = []\n",
    "    for train_month in train_month_list:\n",
    "        frames.append(selectRecordsOpenedAtYearMonth(dataset, train_year, train_month))\n",
    "\n",
    "    dataset = pandas.concat(frames)\n",
    "    return dataset"
   ]
  },
  {
   "cell_type": "code",
   "execution_count": 6,
   "id": "37ab0ef2",
   "metadata": {},
   "outputs": [],
   "source": [
    "def selectTestDatasetRecords(dataset, test_year, test_month):\n",
    "    \"\"\"\n",
    "    filter issue records from the test dataset such that \n",
    "     * unresolved are eliminated and \n",
    "     * they are opened at specific time intervals\n",
    "\n",
    "    \"\"\"\n",
    "    # select year and month\n",
    "    frames = [selectRecordsOpenedAtYearMonth(dataset, test_year, test_month)]\n",
    "    dataset = pandas.concat(frames)\n",
    "    return dataset[(dataset[CNAME_RECORD_TYPE] == FILTER_ISSUE_TYPE) & \n",
    "                   (dataset[CNAME_STATUS] == FILTER_ISSUE_STATUS)]"
   ]
  },
  {
   "cell_type": "code",
   "execution_count": 7,
   "id": "32aba0fa",
   "metadata": {},
   "outputs": [],
   "source": [
    "# list of the stop words to be eliminated from the issue dataset \n",
    "stop_word_list = get_stop_words('turkish')\n",
    "#print(stop_word_list)\n",
    "\n",
    "# Turkish upper-case characters are lower-cased seperately so as to be sure of them\n",
    "lower_map_turkish = {\n",
    "    ord(u'I'): u'ı',\n",
    "    ord(u'İ'): u'i',\n",
    "    ord(u'Ç'): u'ç',\n",
    "    ord(u'Ş'): u'ş',\n",
    "    ord(u'Ö'): u'ö',\n",
    "    ord(u'Ü'): u'ü',\n",
    "    ord(u'Ğ'): u'ğ'\n",
    "}\n",
    "\n",
    "def filterNoise(text):\n",
    "    \"\"\"\n",
    "    converts words to lowercase, eliminates non-alphanumeric characters, eliminates stop-words\n",
    "    \"\"\"\n",
    "    # Remove all non-alphanumeric characters from the text via the regex[\\W]+,\n",
    "    # Convert the text into lowercase characters\n",
    "    text_tr = text.translate(lower_map_turkish)\n",
    "    lowerText = re.sub('[\\W]+', ' ', text_tr.lower())\n",
    "\n",
    "    #remove stopwords\n",
    "    noStopWordsText = [word for word in lowerText.split() if word not in stop_word_list]\n",
    "\n",
    "    return ' '.join(noStopWordsText)"
   ]
  },
  {
   "cell_type": "code",
   "execution_count": 8,
   "id": "fd7e93fe",
   "metadata": {},
   "outputs": [
    {
     "name": "stdout",
     "output_type": "stream",
     "text": [
      "Please enter the name of the csv dataset to read:issues.csv\n"
     ]
    }
   ],
   "source": [
    "inputFileName = input(\"Please enter the name of the csv dataset to read:\")"
   ]
  },
  {
   "cell_type": "code",
   "execution_count": 9,
   "id": "56385bc4",
   "metadata": {},
   "outputs": [
    {
     "name": "stdout",
     "output_type": "stream",
     "text": [
      "Entire dataset length: 3650\n"
     ]
    }
   ],
   "source": [
    "# load the dataset\n",
    "entireDataset = load(inputFileName)\n",
    "print(\"Entire dataset length: \" + str(len(entireDataset)))"
   ]
  },
  {
   "cell_type": "code",
   "execution_count": 10,
   "id": "32ae2e60",
   "metadata": {},
   "outputs": [
    {
     "name": "stdout",
     "output_type": "stream",
     "text": [
      "Please enter the issue report year to be included in train dataset: 2019\n",
      "Please enter the issue report month to be included in train dataset (EXIT to stop): JANUARY\n",
      "Please enter the issue report month to be included in train dataset (EXIT to stop): FEBRUARY\n",
      "Please enter the issue report month to be included in train dataset (EXIT to stop): MARCH\n",
      "Please enter the issue report month to be included in train dataset (EXIT to stop): EXIT\n"
     ]
    }
   ],
   "source": [
    "train_year = int(input(\"Please enter the issue report year to be included in train dataset: \"))\n",
    "train_month_list = []\n",
    "train_month = \"\"\n",
    "while (train_month != \"EXIT\"):\n",
    "    train_month = str(input(\"Please enter the issue report month to be included in train dataset (EXIT to stop): \"))\n",
    "    if (train_month != \"EXIT\"):\n",
    "        train_month_list.append(train_month)"
   ]
  },
  {
   "cell_type": "code",
   "execution_count": 11,
   "id": "393cbcbf",
   "metadata": {},
   "outputs": [
    {
     "name": "stdout",
     "output_type": "stream",
     "text": [
      "3650\n",
      "1709\n"
     ]
    }
   ],
   "source": [
    "# filter training issue records\n",
    "trainDataset = selectTrainingDatasetRecords(entireDataset, train_year, train_month_list)"
   ]
  },
  {
   "cell_type": "code",
   "execution_count": 12,
   "id": "88a0d891",
   "metadata": {},
   "outputs": [],
   "source": [
    "# text preprocessing\n",
    "trainDataset[CNAME_SUBJECT_DESCRIPTION] = trainDataset[CNAME_SUBJECT_DESCRIPTION].apply(filterNoise)"
   ]
  },
  {
   "cell_type": "code",
   "execution_count": 13,
   "id": "a5a79b68",
   "metadata": {},
   "outputs": [
    {
     "name": "stdout",
     "output_type": "stream",
     "text": [
      "Train dataset length : 1709\n"
     ]
    }
   ],
   "source": [
    "# print to check training records\n",
    "print(\"Train dataset length : \" + str(len(trainDataset)))\n",
    "#print(trainDataset[CNAME_SUBJECT_DESCRIPTION].head(3))"
   ]
  },
  {
   "cell_type": "code",
   "execution_count": 14,
   "id": "14c7a061",
   "metadata": {},
   "outputs": [
    {
     "name": "stdout",
     "output_type": "stream",
     "text": [
      "Please enter the issue report year to be included in test dataset: 2019\n",
      "Please enter the issue report month to be included in test dataset: APRIL\n"
     ]
    }
   ],
   "source": [
    "test_year = int(input(\"Please enter the issue report year to be included in test dataset: \"))\n",
    "test_month = str(input(\"Please enter the issue report month to be included in test dataset: \"))"
   ]
  },
  {
   "cell_type": "code",
   "execution_count": 15,
   "id": "fb47958b",
   "metadata": {},
   "outputs": [],
   "source": [
    "# filter test issue records\n",
    "testDataset = selectTestDatasetRecords(entireDataset, test_year, test_month)"
   ]
  },
  {
   "cell_type": "code",
   "execution_count": 16,
   "id": "59f244e4",
   "metadata": {},
   "outputs": [],
   "source": [
    "#text preprocessing\n",
    "testDataset[CNAME_SUBJECT_DESCRIPTION] = testDataset[CNAME_SUBJECT_DESCRIPTION].apply(filterNoise)"
   ]
  },
  {
   "cell_type": "code",
   "execution_count": 17,
   "id": "584d016a",
   "metadata": {},
   "outputs": [
    {
     "name": "stdout",
     "output_type": "stream",
     "text": [
      "Test length: 466\n"
     ]
    }
   ],
   "source": [
    "# print to check test records\n",
    "print(\"Test length: \" + str(len(testDataset)))\n",
    "#print(testDataset[CNAME_SUBJECT_DESCRIPTION].head(3))"
   ]
  },
  {
   "cell_type": "code",
   "execution_count": 18,
   "id": "c05ef856",
   "metadata": {},
   "outputs": [],
   "source": [
    "# specify the input textual data to train (X_train) and related classes (Y_train)\n",
    "X_train = trainDataset[CNAME_SUBJECT_DESCRIPTION].values\n",
    "Y_train = trainDataset[CNAME_TEAMCODE].values"
   ]
  },
  {
   "cell_type": "code",
   "execution_count": 19,
   "id": "209e258b",
   "metadata": {},
   "outputs": [],
   "source": [
    "vectorizer_sd = TfidfVectorizer(ngram_range=(1,2), min_df=2)\n",
    "train_vectors_sd = vectorizer_sd.fit_transform(X_train)\n",
    "voc_sd = vectorizer_sd.vocabulary_"
   ]
  },
  {
   "cell_type": "code",
   "execution_count": 20,
   "id": "dee62b5c",
   "metadata": {},
   "outputs": [],
   "source": [
    "# specify the input textual data to test (X_test) and related classes (Y_test)\n",
    "X_test = testDataset[CNAME_SUBJECT_DESCRIPTION].values\n",
    "Y_test = testDataset[CNAME_TEAMCODE].values"
   ]
  },
  {
   "cell_type": "code",
   "execution_count": 21,
   "id": "15e0f3e5",
   "metadata": {},
   "outputs": [],
   "source": [
    "# Td-idf conversion for test dataset\n",
    "vectorizer_test_sd = TfidfVectorizer(ngram_range=(1, 2), vocabulary=voc_sd)\n",
    "X_tfidf_test = vectorizer_test_sd.fit_transform(X_test)"
   ]
  },
  {
   "cell_type": "code",
   "execution_count": 22,
   "id": "eb9f6431",
   "metadata": {},
   "outputs": [
    {
     "name": "stderr",
     "output_type": "stream",
     "text": [
      "C:\\ProgramData\\Anaconda3\\lib\\site-packages\\sklearn\\model_selection\\_split.py:666: UserWarning: The least populated class in y has only 1 members, which is less than n_splits=5.\n",
      "  warnings.warn((\"The least populated class in y has only %d\"\n"
     ]
    },
    {
     "data": {
      "text/plain": [
       "CalibratedClassifierCV(base_estimator=LinearSVC())"
      ]
     },
     "execution_count": 22,
     "metadata": {},
     "output_type": "execute_result"
    }
   ],
   "source": [
    "Svm = LinearSVC()\n",
    "cSvm = CalibratedClassifierCV(Svm)\n",
    "cSvm.fit(train_vectors_sd, Y_train)"
   ]
  },
  {
   "cell_type": "code",
   "execution_count": 23,
   "id": "9b7fd1f5",
   "metadata": {},
   "outputs": [
    {
     "name": "stdout",
     "output_type": "stream",
     "text": [
      "#################################################\n",
      "################ SVM_t_1 Results ################\n",
      "#################################################\n",
      "0.7274678111587983\n",
      "[[2 0 0 ... 0 0 0]\n",
      " [0 1 0 ... 0 0 0]\n",
      " [0 0 7 ... 0 0 0]\n",
      " ...\n",
      " [0 0 0 ... 3 0 0]\n",
      " [0 0 0 ... 0 0 0]\n",
      " [0 0 0 ... 0 0 0]]\n",
      "              precision    recall  f1-score   support\n",
      "\n",
      "      UK0020    0.40000   1.00000   0.57143         2\n",
      "      UK0025    0.50000   0.25000   0.33333         4\n",
      "      UK0038    0.58333   0.70000   0.63636        10\n",
      "      UK0066    0.00000   0.00000   0.00000         1\n",
      "      UK0074    0.00000   0.00000   0.00000         0\n",
      "      UK0100    0.00000   0.00000   0.00000         5\n",
      "      UK0110    0.96552   0.93333   0.94915        30\n",
      "      UK0125    1.00000   0.33333   0.50000         3\n",
      "      UK0137    0.71429   0.83333   0.76923        18\n",
      "      UK0167    1.00000   0.50000   0.66667         2\n",
      "      UK0169    0.00000   0.00000   0.00000         1\n",
      "      UK0172    0.00000   0.00000   0.00000         0\n",
      "      UK0174    0.60000   0.42857   0.50000         7\n",
      "      UK0189    1.00000   0.66667   0.80000         6\n",
      "      UK0196    0.00000   0.00000   0.00000         3\n",
      "      UK0199    0.85714   0.46154   0.60000        13\n",
      "      UK0207    0.50000   0.75000   0.60000         4\n",
      "      UK0213    1.00000   0.97297   0.98630        37\n",
      "      UK0217    0.66667   1.00000   0.80000         6\n",
      "      UK0265    0.00000   0.00000   0.00000         1\n",
      "      UK0304    0.00000   0.00000   0.00000         1\n",
      "      UK0313    0.00000   0.00000   0.00000         2\n",
      "      UK0318    0.00000   0.00000   0.00000         0\n",
      "      UK0412    0.00000   0.00000   0.00000         2\n",
      "      UK0440    0.73913   1.00000   0.85000        17\n",
      "      UK0444    1.00000   1.00000   1.00000         3\n",
      "      UK0448    0.75000   1.00000   0.85714         3\n",
      "      UK0451    0.66667   0.80000   0.72727        10\n",
      "      UK0549    0.00000   0.00000   0.00000         1\n",
      "      UK0615    0.75000   0.33333   0.46154         9\n",
      "      UK0626    0.00000   0.00000   0.00000         1\n",
      "      UK0634    0.00000   0.00000   0.00000         1\n",
      "      UK0649    0.00000   0.00000   0.00000         3\n",
      "      UK0650    1.00000   1.00000   1.00000         1\n",
      "      UK0657    0.00000   0.00000   0.00000         2\n",
      "      UK0664    0.00000   0.00000   0.00000         1\n",
      "      UK0668    0.00000   0.00000   0.00000         1\n",
      "      UK0677    0.00000   0.00000   0.00000         1\n",
      "      UK0683    1.00000   0.71429   0.83333         7\n",
      "      UK0690    0.00000   0.00000   0.00000         1\n",
      "      UK0691    0.40000   0.50000   0.44444         4\n",
      "      UK0696    0.33333   0.10000   0.15385        10\n",
      "      UK0698    0.79630   0.84314   0.81905        51\n",
      "      UK0701    0.66667   0.66667   0.66667         3\n",
      "      UK0707    0.00000   0.00000   0.00000         1\n",
      "      UK0723    0.75000   0.75000   0.75000         4\n",
      "      UK0732    0.75000   1.00000   0.85714         3\n",
      "      UK0733    0.00000   0.00000   0.00000         1\n",
      "      UK0744    1.00000   1.00000   1.00000         9\n",
      "      UK0748    1.00000   0.33333   0.50000         3\n",
      "      UK0751    1.00000   0.50000   0.66667         2\n",
      "      UK0778    0.75000   1.00000   0.85714         3\n",
      "      UK0788    0.88889   0.80000   0.84211        10\n",
      "      UK0802    0.00000   0.00000   0.00000         0\n",
      "      UK0811    0.50000   0.60000   0.54545         5\n",
      "      UK0812    1.00000   1.00000   1.00000         2\n",
      "      UK0848    0.00000   0.00000   0.00000         1\n",
      "      UK0858    0.50000   0.50000   0.50000         2\n",
      "      UK0959    0.63636   0.70000   0.66667        10\n",
      "      UK1042    0.88235   0.71429   0.78947        21\n",
      "      UK1087    0.63889   0.92000   0.75410        25\n",
      "      UK1110    0.00000   0.00000   0.00000         2\n",
      "      UK1138    1.00000   1.00000   1.00000         3\n",
      "      UK1147    0.47619   0.76923   0.58824        13\n",
      "      UK1148    0.65574   0.86957   0.74766        46\n",
      "      UK1186    0.60000   0.60000   0.60000         5\n",
      "      UK1212    1.00000   0.60000   0.75000         5\n",
      "      UK1352    0.00000   0.00000   0.00000         1\n",
      "      UK1422    0.00000   0.00000   0.00000         1\n",
      "\n",
      "    accuracy                        0.72747       466\n",
      "   macro avg    0.46257   0.44121   0.43392       466\n",
      "weighted avg    0.70962   0.72747   0.70208       466\n",
      "\n"
     ]
    },
    {
     "name": "stderr",
     "output_type": "stream",
     "text": [
      "C:\\ProgramData\\Anaconda3\\lib\\site-packages\\sklearn\\metrics\\_classification.py:1248: UndefinedMetricWarning: Precision and F-score are ill-defined and being set to 0.0 in labels with no predicted samples. Use `zero_division` parameter to control this behavior.\n",
      "  _warn_prf(average, modifier, msg_start, len(result))\n",
      "C:\\ProgramData\\Anaconda3\\lib\\site-packages\\sklearn\\metrics\\_classification.py:1248: UndefinedMetricWarning: Recall and F-score are ill-defined and being set to 0.0 in labels with no true samples. Use `zero_division` parameter to control this behavior.\n",
      "  _warn_prf(average, modifier, msg_start, len(result))\n",
      "C:\\ProgramData\\Anaconda3\\lib\\site-packages\\sklearn\\metrics\\_classification.py:1248: UndefinedMetricWarning: Precision and F-score are ill-defined and being set to 0.0 in labels with no predicted samples. Use `zero_division` parameter to control this behavior.\n",
      "  _warn_prf(average, modifier, msg_start, len(result))\n",
      "C:\\ProgramData\\Anaconda3\\lib\\site-packages\\sklearn\\metrics\\_classification.py:1248: UndefinedMetricWarning: Recall and F-score are ill-defined and being set to 0.0 in labels with no true samples. Use `zero_division` parameter to control this behavior.\n",
      "  _warn_prf(average, modifier, msg_start, len(result))\n",
      "C:\\ProgramData\\Anaconda3\\lib\\site-packages\\sklearn\\metrics\\_classification.py:1248: UndefinedMetricWarning: Precision and F-score are ill-defined and being set to 0.0 in labels with no predicted samples. Use `zero_division` parameter to control this behavior.\n",
      "  _warn_prf(average, modifier, msg_start, len(result))\n",
      "C:\\ProgramData\\Anaconda3\\lib\\site-packages\\sklearn\\metrics\\_classification.py:1248: UndefinedMetricWarning: Recall and F-score are ill-defined and being set to 0.0 in labels with no true samples. Use `zero_division` parameter to control this behavior.\n",
      "  _warn_prf(average, modifier, msg_start, len(result))\n"
     ]
    }
   ],
   "source": [
    "predictions = cSvm.predict(X_tfidf_test)\n",
    "print(\"#################################################\")\n",
    "print(\"################ SVM_t_1 Results ################\")\n",
    "print(\"#################################################\")\n",
    "print(accuracy_score(Y_test, predictions))\n",
    "print(confusion_matrix(Y_test, predictions))\n",
    "print(classification_report(Y_test, predictions, digits=5))"
   ]
  },
  {
   "cell_type": "code",
   "execution_count": 43,
   "id": "ae49ee14",
   "metadata": {},
   "outputs": [],
   "source": [
    "from keras import Input, Model\n",
    "from keras.layers import Embedding, Dense, Conv1D, GlobalMaxPooling1D, Concatenate, Dropout, concatenate;\n",
    "from keras.preprocessing.text import Tokenizer\n",
    "from keras.preprocessing.sequence import pad_sequences\n",
    "from sklearn.base import BaseEstimator, TransformerMixin\n",
    "from keras.utils import np_utils\n",
    "from sklearn.preprocessing import LabelBinarizer, LabelEncoder"
   ]
  },
  {
   "cell_type": "code",
   "execution_count": 49,
   "id": "480d3658",
   "metadata": {},
   "outputs": [],
   "source": [
    "def get_model_1Channel(maxlen, max_features, embedding_dims, class_num, last_activation):\n",
    "    ###########################################################\n",
    "    # Returns the CNN model with single channel               #\n",
    "    # maxlen: Length of input sequences, when it is constant. #\n",
    "    #         This argument is required if you are going to   #\n",
    "    #         connect Flatten then Dense layers upstream      #\n",
    "    # max_features: size of the vocabulary                    #\n",
    "    # embedding_dims: dimension of the dense embedding        #\n",
    "    # class_num: number of classes (dimension of the keras    #\n",
    "    #         Dense output layer)                             #\n",
    "    # last_activation: Activation function to use for the     #\n",
    "    #         keras Dense layer                               #\n",
    "    ###########################################################\n",
    "    input = Input((maxlen,))\n",
    "    # Word embeddings\n",
    "    embedding = Embedding(max_features, embedding_dims, \n",
    "                          input_length=maxlen, trainable=True)(input)\n",
    "    # Convolutional layer and Max Pooling\n",
    "    convs = []\n",
    "    for kernel_size in [2, 3, 4]:\n",
    "        c = Conv1D(128, kernel_size, activation='relu')(embedding)\n",
    "        c = Dropout(0.5)(c)\n",
    "        c = GlobalMaxPooling1D()(c)\n",
    "        convs.append(c)\n",
    "    x = Concatenate()(convs)\n",
    "    # Fully connected layer\n",
    "    output = Dense(class_num, activation=last_activation)(x)\n",
    "    model = Model(inputs=input, outputs=output)\n",
    "    return model"
   ]
  },
  {
   "cell_type": "code",
   "execution_count": 50,
   "id": "2a43ff71",
   "metadata": {},
   "outputs": [],
   "source": [
    "class TextTransformer(BaseEstimator, TransformerMixin):\n",
    "    # Class that transforma text data before CNN classification\n",
    "    def __init__(self): \n",
    "        # max_features: \n",
    "        self.max_features = 50000  # the maximum number of words to keep, based on word frequency.\n",
    "        self.max_length = 400      # maximum length of all sequences\n",
    "        # create the tokenizer\n",
    "        self.tokenizer = Tokenizer(num_words=self.max_features)\n",
    "        \n",
    "    def fit(self, X_train):\n",
    "        # fit the tokenizer on the documents\n",
    "        self.tokenizer.fit_on_texts(X_train)\n",
    "            \n",
    "    def transform(self, X_test):\n",
    "        # sequence encode\n",
    "        encoded_docs = self.tokenizer.texts_to_sequences(X_test)\n",
    "        # pad sequences\n",
    "        X_test_padded = pad_sequences(encoded_docs, maxlen=self.max_length, padding='post')\n",
    "\n",
    "        return X_test_padded"
   ]
  },
  {
   "cell_type": "code",
   "execution_count": 51,
   "id": "64f34d12",
   "metadata": {},
   "outputs": [
    {
     "name": "stdout",
     "output_type": "stream",
     "text": [
      "122\n"
     ]
    }
   ],
   "source": [
    "train_tags = trainDataset[CNAME_TEAMCODE]\n",
    "test_tags = testDataset[CNAME_TEAMCODE]\n",
    "df = pandas.concat([trainDataset[CNAME_TEAMCODE], testDataset[CNAME_TEAMCODE]], axis=0)\n",
    "num_classes = df.nunique()\n",
    "print(num_classes)\n",
    "\n",
    "# Encode target labels with value between 0 and n_classes-1\n",
    "encoder = LabelEncoder()\n",
    "encoder.fit(df)\n",
    "y_train = encoder.transform(train_tags)\n",
    "y_test = encoder.transform(test_tags)\n",
    "\n",
    "# Convert class vector (integers) to binary class matrix.\n",
    "y_train = np_utils.to_categorical(y_train, num_classes)\n",
    "y_test = np_utils.to_categorical(y_test, num_classes)\n",
    "#print(y_train[0])\n",
    "#print(y_test[0])"
   ]
  },
  {
   "cell_type": "code",
   "execution_count": 54,
   "id": "a06c5572",
   "metadata": {},
   "outputs": [
    {
     "name": "stdout",
     "output_type": "stream",
     "text": [
      "13330\n"
     ]
    }
   ],
   "source": [
    "X_train = trainDataset[CNAME_SUBJECT_DESCRIPTION].values\n",
    "vectorizer = TextTransformer()\n",
    "vectorizer.fit(X_train)\n",
    "\n",
    "X_test = testDataset[CNAME_SUBJECT_DESCRIPTION].values\n",
    "\n",
    "# pad sequences\n",
    "X_train_padded = vectorizer.transform(X_train)\n",
    "X_test_padded = vectorizer.transform(X_test)\n",
    "\n",
    "# define vocabulary size (largest integer value)\n",
    "vocab_size = len(vectorizer.tokenizer.word_index) + 1\n",
    "print(vocab_size)\n",
    "\n",
    "embedding_dims = 300\n",
    "max_length = 400\n",
    "last_activation='softmax'\n",
    "batch_size = 32\n",
    "epochs = 2"
   ]
  },
  {
   "cell_type": "code",
   "execution_count": 56,
   "id": "cb50929d",
   "metadata": {},
   "outputs": [
    {
     "name": "stdout",
     "output_type": "stream",
     "text": [
      "Epoch 1/2\n",
      "54/54 [==============================] - 30s 533ms/step - loss: 3.6392 - accuracy: 0.2399 - val_loss: 3.5004 - val_accuracy: 0.3219\n",
      "Epoch 2/2\n",
      "54/54 [==============================] - 29s 535ms/step - loss: 2.4972 - accuracy: 0.4968 - val_loss: 2.9037 - val_accuracy: 0.5000\n"
     ]
    },
    {
     "data": {
      "text/plain": [
       "<keras.callbacks.History at 0x1d897d21e80>"
      ]
     },
     "execution_count": 56,
     "metadata": {},
     "output_type": "execute_result"
    }
   ],
   "source": [
    "model_1channel = get_model_1Channel(max_length, vocab_size, embedding_dims, \n",
    "                                    class_num=num_classes, last_activation=last_activation)\n",
    "model_1channel.compile(loss='categorical_crossentropy', optimizer='adam', metrics=['accuracy'])\n",
    "\n",
    "model_1channel.fit(X_train_padded, y_train, \n",
    "                   batch_size=batch_size, \n",
    "                   epochs=epochs, \n",
    "                   validation_data=(X_test_padded, y_test))"
   ]
  },
  {
   "cell_type": "code",
   "execution_count": 57,
   "id": "ac3c3412",
   "metadata": {},
   "outputs": [
    {
     "name": "stdout",
     "output_type": "stream",
     "text": [
      "#################################################\n",
      "################ CNN_t_1 Results ################\n",
      "#################################################\n",
      "0.5\n",
      "[[0 0 0 ... 0 0 0]\n",
      " [0 0 0 ... 0 0 0]\n",
      " [0 0 0 ... 0 0 0]\n",
      " ...\n",
      " [0 0 0 ... 0 0 0]\n",
      " [0 0 0 ... 0 0 0]\n",
      " [0 0 0 ... 0 0 0]]\n",
      "              precision    recall  f1-score   support\n",
      "\n",
      "           0    0.00000   0.00000   0.00000         2\n",
      "           1    0.00000   0.00000   0.00000         4\n",
      "           2    0.00000   0.00000   0.00000        10\n",
      "           4    0.00000   0.00000   0.00000         1\n",
      "           6    0.00000   0.00000   0.00000         5\n",
      "           8    0.82353   0.93333   0.87500        30\n",
      "           9    0.00000   0.00000   0.00000         3\n",
      "          10    0.73684   0.77778   0.75676        18\n",
      "          12    0.00000   0.00000   0.00000         2\n",
      "          13    0.00000   0.00000   0.00000         1\n",
      "          16    0.00000   0.00000   0.00000         7\n",
      "          17    0.00000   0.00000   0.00000         6\n",
      "          18    0.00000   0.00000   0.00000         3\n",
      "          19    0.33333   0.23077   0.27273        13\n",
      "          20    0.00000   0.00000   0.00000         4\n",
      "          21    0.92308   0.97297   0.94737        37\n",
      "          22    0.00000   0.00000   0.00000         6\n",
      "          23    0.00000   0.00000   0.00000         1\n",
      "          25    0.00000   0.00000   0.00000         1\n",
      "          26    0.00000   0.00000   0.00000         2\n",
      "          33    0.00000   0.00000   0.00000         2\n",
      "          35    0.42105   0.94118   0.58182        17\n",
      "          38    0.00000   0.00000   0.00000         3\n",
      "          40    0.75000   1.00000   0.85714         3\n",
      "          41    0.00000   0.00000   0.00000        10\n",
      "          42    0.00000   0.00000   0.00000         1\n",
      "          43    0.00000   0.00000   0.00000         9\n",
      "          44    0.00000   0.00000   0.00000         1\n",
      "          46    0.00000   0.00000   0.00000         1\n",
      "          48    0.00000   0.00000   0.00000         3\n",
      "          49    0.00000   0.00000   0.00000         1\n",
      "          54    0.00000   0.00000   0.00000         2\n",
      "          55    0.00000   0.00000   0.00000         1\n",
      "          56    0.00000   0.00000   0.00000         1\n",
      "          61    0.00000   0.00000   0.00000         1\n",
      "          62    0.00000   0.00000   0.00000         7\n",
      "          64    0.00000   0.00000   0.00000         1\n",
      "          65    0.00000   0.00000   0.00000         4\n",
      "          66    0.00000   0.00000   0.00000        10\n",
      "          67    0.65079   0.80392   0.71930        51\n",
      "          68    0.00000   0.00000   0.00000         3\n",
      "          69    0.00000   0.00000   0.00000         1\n",
      "          72    1.00000   0.75000   0.85714         4\n",
      "          73    0.00000   0.00000   0.00000         3\n",
      "          74    0.00000   0.00000   0.00000         1\n",
      "          76    0.00000   0.00000   0.00000         9\n",
      "          77    0.00000   0.00000   0.00000         3\n",
      "          78    0.00000   0.00000   0.00000         2\n",
      "          79    0.00000   0.00000   0.00000         3\n",
      "          80    0.87500   0.70000   0.77778        10\n",
      "          83    0.00000   0.00000   0.00000         5\n",
      "          84    0.00000   0.00000   0.00000         2\n",
      "          86    0.00000   0.00000   0.00000         1\n",
      "          89    0.00000   0.00000   0.00000         2\n",
      "          91    1.00000   0.10000   0.18182        10\n",
      "          95    0.90909   0.47619   0.62500        21\n",
      "          97    0.34328   0.92000   0.50000        25\n",
      "          99    0.00000   0.00000   0.00000         2\n",
      "         100    1.00000   0.66667   0.80000         3\n",
      "         101    0.06742   0.46154   0.11765        13\n",
      "         102    0.51282   0.86957   0.64516        46\n",
      "         106    0.00000   0.00000   0.00000         5\n",
      "         109    0.00000   0.00000   0.00000         5\n",
      "         114    0.00000   0.00000   0.00000         1\n",
      "         118    0.00000   0.00000   0.00000         1\n",
      "\n",
      "    accuracy                        0.50000       466\n",
      "   macro avg    0.15917   0.16314   0.14638       466\n",
      "weighted avg    0.42263   0.50000   0.42891       466\n",
      "\n"
     ]
    },
    {
     "name": "stderr",
     "output_type": "stream",
     "text": [
      "C:\\ProgramData\\Anaconda3\\lib\\site-packages\\sklearn\\metrics\\_classification.py:1248: UndefinedMetricWarning: Precision and F-score are ill-defined and being set to 0.0 in labels with no predicted samples. Use `zero_division` parameter to control this behavior.\n",
      "  _warn_prf(average, modifier, msg_start, len(result))\n",
      "C:\\ProgramData\\Anaconda3\\lib\\site-packages\\sklearn\\metrics\\_classification.py:1248: UndefinedMetricWarning: Precision and F-score are ill-defined and being set to 0.0 in labels with no predicted samples. Use `zero_division` parameter to control this behavior.\n",
      "  _warn_prf(average, modifier, msg_start, len(result))\n",
      "C:\\ProgramData\\Anaconda3\\lib\\site-packages\\sklearn\\metrics\\_classification.py:1248: UndefinedMetricWarning: Precision and F-score are ill-defined and being set to 0.0 in labels with no predicted samples. Use `zero_division` parameter to control this behavior.\n",
      "  _warn_prf(average, modifier, msg_start, len(result))\n"
     ]
    }
   ],
   "source": [
    "pred_proba = model_1channel.predict(X_test_padded)\n",
    "print(\"#################################################\")\n",
    "print(\"################ CNN_t_1 Results ################\")\n",
    "print(\"#################################################\")\n",
    "\n",
    "predictions = []\n",
    "for proba in pred_proba:\n",
    "    proba_list = list(proba)\n",
    "    index = proba_list.index(max(proba_list))\n",
    "    predictions.append(index)\n",
    "\n",
    "Y_validation = []\n",
    "for y in y_test:\n",
    "    y_list = list(y)\n",
    "    index = y_list.index(max(y_list))\n",
    "    Y_validation.append(index)\n",
    "\n",
    "print(accuracy_score(Y_validation, predictions))\n",
    "print(confusion_matrix(Y_validation, predictions))\n",
    "print(classification_report(Y_validation, predictions, digits=5))"
   ]
  },
  {
   "cell_type": "code",
   "execution_count": null,
   "id": "9c1db52c",
   "metadata": {},
   "outputs": [],
   "source": []
  }
 ],
 "metadata": {
  "kernelspec": {
   "display_name": "Python 3 (ipykernel)",
   "language": "python",
   "name": "python3"
  },
  "language_info": {
   "codemirror_mode": {
    "name": "ipython",
    "version": 3
   },
   "file_extension": ".py",
   "mimetype": "text/x-python",
   "name": "python",
   "nbconvert_exporter": "python",
   "pygments_lexer": "ipython3",
   "version": "3.9.7"
  }
 },
 "nbformat": 4,
 "nbformat_minor": 5
}
